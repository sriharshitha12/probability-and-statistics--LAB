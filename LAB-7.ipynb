{
  "nbformat": 4,
  "nbformat_minor": 0,
  "metadata": {
    "colab": {
      "provenance": [],
      "authorship_tag": "ABX9TyNNNIp5g+elLX0xGifUUAVW",
      "include_colab_link": true
    },
    "kernelspec": {
      "name": "python3",
      "display_name": "Python 3"
    },
    "language_info": {
      "name": "python"
    }
  },
  "cells": [
    {
      "cell_type": "markdown",
      "metadata": {
        "id": "view-in-github",
        "colab_type": "text"
      },
      "source": [
        "<a href=\"https://colab.research.google.com/github/sriharshitha12/probability-and-statistics--LAB/blob/main/LAB-7.ipynb\" target=\"_parent\"><img src=\"https://colab.research.google.com/assets/colab-badge.svg\" alt=\"Open In Colab\"/></a>"
      ]
    },
    {
      "cell_type": "code",
      "execution_count": 3,
      "metadata": {
        "colab": {
          "base_uri": "https://localhost:8080/"
        },
        "id": "yfKIrnotguys",
        "outputId": "a25e563f-e069-4904-f908-9c4804aa581a"
      },
      "outputs": [
        {
          "output_type": "stream",
          "name": "stdout",
          "text": [
            "Sample Mean: ₹27466.67\n",
            "Sample Standard Deviation: ₹3748.65\n",
            "95% Confidence Interval: ₹25390.73 to ₹29542.60\n",
            "Sample Mean: ₹27466.67\n",
            "Sample Standard Deviation: ₹3748.65\n",
            "95% Confidence Interval: ₹25390.73 to ₹29542.60\n",
            "The claimed mean of ₹30,000 is significantly different from the sample mean.\n"
          ]
        }
      ],
      "source": [
        "import numpy as np\n",
        "import scipy.stats as stats\n",
        "\n",
        "# Data: monthly living costs of 15 people in Hyderabad\n",
        "data = [25000, 31000, 20000, 28000, 29500, 32000, 21000, 30500, 27000, 28500, 30000, 23000, 31000, 26000, 29500]\n",
        "\n",
        "# 1. Compute sample mean and standard deviation\n",
        "sample_mean = np.mean(data)\n",
        "sample_std = np.std(data, ddof=1)  # Using ddof=1 for sample standard deviation\n",
        "sample_size = len(data)\n",
        "\n",
        "# 2. Calculate the 95% confidence interval for the sample mean\n",
        "confidence_level = 0.95\n",
        "alpha = 1 - confidence_level\n",
        "degrees_of_freedom = sample_size - 1\n",
        "\n",
        "# t-distribution critical value for the 95% confidence level\n",
        "t_critical = stats.t.ppf(1 - alpha / 2, degrees_of_freedom)\n",
        "\n",
        "# Standard error of the mean\n",
        "standard_error = sample_std / np.sqrt(sample_size)\n",
        "\n",
        "# Margin of error\n",
        "margin_of_error = t_critical * standard_error\n",
        "\n",
        "# Confidence interval\n",
        "confidence_interval = (sample_mean - margin_of_error, sample_mean + margin_of_error)\n",
        "\n",
        "# 3. Assess the hypothesis test using the confidence interval\n",
        "claimed_mean = 30000\n",
        "\n",
        "# Print the results\n",
        "print(f\"Sample Mean: ₹{sample_mean:.2f}\")\n",
        "print(f\"Sample Standard Deviation: ₹{sample_std:.2f}\")\n",
        "print(f\"95% Confidence Interval: ₹{confidence_interval[0]:.2f} to ₹{confidence_interval[1]:.2f}\")\n",
        "\n",
        "# Check if the claimed mean lies within the confidence interval\n",
        "import numpy as np\n",
        "import scipy.stats as stats\n",
        "\n",
        "# Data: monthly living costs of 15 people in Hyderabad\n",
        "data = [25000, 31000, 20000, 28000, 29500, 32000, 21000, 30500, 27000, 28500, 30000, 23000, 31000, 26000, 29500]\n",
        "\n",
        "# 1. Compute sample mean and standard deviation\n",
        "sample_mean = np.mean(data)\n",
        "sample_std = np.std(data, ddof=1)  # Using ddof=1 for sample standard deviation\n",
        "sample_size = len(data)\n",
        "\n",
        "# 2. Calculate the 95% confidence interval for the sample mean\n",
        "confidence_level = 0.95\n",
        "alpha = 1 - confidence_level\n",
        "degrees_of_freedom = sample_size - 1\n",
        "\n",
        "# t-distribution critical value for the 95% confidence level\n",
        "t_critical = stats.t.ppf(1 - alpha / 2, degrees_of_freedom)\n",
        "\n",
        "# Standard error of the mean\n",
        "standard_error = sample_std / np.sqrt(sample_size)\n",
        "\n",
        "# Margin of error\n",
        "margin_of_error = t_critical * standard_error\n",
        "\n",
        "# Confidence interval\n",
        "confidence_interval = (sample_mean - margin_of_error, sample_mean + margin_of_error)\n",
        "\n",
        "# 3. Assess the hypothesis test using the confidence interval\n",
        "claimed_mean = 30000\n",
        "\n",
        "# Print the results\n",
        "print(f\"Sample Mean: ₹{sample_mean:.2f}\")\n",
        "print(f\"Sample Standard Deviation: ₹{sample_std:.2f}\")\n",
        "print(f\"95% Confidence Interval: ₹{confidence_interval[0]:.2f} to ₹{confidence_interval[1]:.2f}\")\n",
        "\n",
        "# Check if the claimed mean lies within the confidence interval\n",
        "if confidence_interval[0] <= claimed_mean <= confidence_interval[1]:\n",
        "    print(\"The claimed mean of ₹30,000 is not significantly different from the sample mean.\")\n",
        "else:\n",
        "    print(\"The claimed mean of ₹30,000 is significantly different from the sample mean.\")\n",
        ""
      ]
    }
  ]
}